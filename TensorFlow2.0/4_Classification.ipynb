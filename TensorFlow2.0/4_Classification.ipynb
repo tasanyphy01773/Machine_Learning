{
  "nbformat": 4,
  "nbformat_minor": 0,
  "metadata": {
    "colab": {
      "name": "4.Classification.ipynb",
      "provenance": [],
      "authorship_tag": "ABX9TyNCWP1dp3vP16uR5RKXth8d",
      "include_colab_link": true
    },
    "kernelspec": {
      "name": "python3",
      "display_name": "Python 3"
    },
    "language_info": {
      "name": "python"
    }
  },
  "cells": [
    {
      "cell_type": "markdown",
      "metadata": {
        "id": "view-in-github",
        "colab_type": "text"
      },
      "source": [
        "<a href=\"https://colab.research.google.com/github/tasanyphy01773/Machine_Learning/blob/main/4_Classification.ipynb\" target=\"_parent\"><img src=\"https://colab.research.google.com/assets/colab-badge.svg\" alt=\"Open In Colab\"/></a>"
      ]
    },
    {
      "cell_type": "code",
      "metadata": {
        "id": "SAmBoQeCJ7uf"
      },
      "source": [
        "%tensorflow_version 2.x"
      ],
      "execution_count": 1,
      "outputs": []
    },
    {
      "cell_type": "code",
      "metadata": {
        "id": "tJmXB3ttKSGU"
      },
      "source": [
        "from __future__ import absolute_import, division, print_function, unicode_literals  #this provides a connection between Python 2 and Python 3\n",
        "\n",
        "import tensorflow as tf \n",
        "\n",
        "import pandas as pd "
      ],
      "execution_count": 2,
      "outputs": []
    },
    {
      "cell_type": "code",
      "metadata": {
        "id": "E_rGl-svK9Kw"
      },
      "source": [
        "CSV_COLUMN_NAMES = ['SepalLength', 'SepalWidth', 'PetalLength', 'PetalWidth', 'Species']\n",
        "SPECIES = ['Setosa', 'Versicolor', 'Virginica']\n",
        "# Lets define some constants to help us later on"
      ],
      "execution_count": 3,
      "outputs": []
    },
    {
      "cell_type": "code",
      "metadata": {
        "id": "OmoyGzrILCuz"
      },
      "source": [
        "#tf.keras.utils is a Public API \n",
        "\n",
        "train_path = tf.keras.utils.get_file(\n",
        "    \"iris_training.csv\", \"https://storage.googleapis.com/download.tensorflow.org/data/iris_training.csv\")\n",
        "test_path = tf.keras.utils.get_file(\n",
        "    \"iris_test.csv\", \"https://storage.googleapis.com/download.tensorflow.org/data/iris_test.csv\")\n",
        "\n",
        "train = pd.read_csv(train_path, names=CSV_COLUMN_NAMES, header=0)\n",
        "test = pd.read_csv(test_path, names=CSV_COLUMN_NAMES, header=0)\n",
        "# Here we use keras (a module inside of TensorFlow) to grab our datasets and read them into a pandas dataframe"
      ],
      "execution_count": 4,
      "outputs": []
    },
    {
      "cell_type": "code",
      "metadata": {
        "colab": {
          "base_uri": "https://localhost:8080/",
          "height": 204
        },
        "id": "a-vVONIyLigs",
        "outputId": "be1a39d0-cc83-4ed7-cc64-25ebe2d26e74"
      },
      "source": [
        "train.head()"
      ],
      "execution_count": 5,
      "outputs": [
        {
          "output_type": "execute_result",
          "data": {
            "text/html": [
              "<div>\n",
              "<style scoped>\n",
              "    .dataframe tbody tr th:only-of-type {\n",
              "        vertical-align: middle;\n",
              "    }\n",
              "\n",
              "    .dataframe tbody tr th {\n",
              "        vertical-align: top;\n",
              "    }\n",
              "\n",
              "    .dataframe thead th {\n",
              "        text-align: right;\n",
              "    }\n",
              "</style>\n",
              "<table border=\"1\" class=\"dataframe\">\n",
              "  <thead>\n",
              "    <tr style=\"text-align: right;\">\n",
              "      <th></th>\n",
              "      <th>SepalLength</th>\n",
              "      <th>SepalWidth</th>\n",
              "      <th>PetalLength</th>\n",
              "      <th>PetalWidth</th>\n",
              "      <th>Species</th>\n",
              "    </tr>\n",
              "  </thead>\n",
              "  <tbody>\n",
              "    <tr>\n",
              "      <th>0</th>\n",
              "      <td>6.4</td>\n",
              "      <td>2.8</td>\n",
              "      <td>5.6</td>\n",
              "      <td>2.2</td>\n",
              "      <td>2</td>\n",
              "    </tr>\n",
              "    <tr>\n",
              "      <th>1</th>\n",
              "      <td>5.0</td>\n",
              "      <td>2.3</td>\n",
              "      <td>3.3</td>\n",
              "      <td>1.0</td>\n",
              "      <td>1</td>\n",
              "    </tr>\n",
              "    <tr>\n",
              "      <th>2</th>\n",
              "      <td>4.9</td>\n",
              "      <td>2.5</td>\n",
              "      <td>4.5</td>\n",
              "      <td>1.7</td>\n",
              "      <td>2</td>\n",
              "    </tr>\n",
              "    <tr>\n",
              "      <th>3</th>\n",
              "      <td>4.9</td>\n",
              "      <td>3.1</td>\n",
              "      <td>1.5</td>\n",
              "      <td>0.1</td>\n",
              "      <td>0</td>\n",
              "    </tr>\n",
              "    <tr>\n",
              "      <th>4</th>\n",
              "      <td>5.7</td>\n",
              "      <td>3.8</td>\n",
              "      <td>1.7</td>\n",
              "      <td>0.3</td>\n",
              "      <td>0</td>\n",
              "    </tr>\n",
              "  </tbody>\n",
              "</table>\n",
              "</div>"
            ],
            "text/plain": [
              "   SepalLength  SepalWidth  PetalLength  PetalWidth  Species\n",
              "0          6.4         2.8          5.6         2.2        2\n",
              "1          5.0         2.3          3.3         1.0        1\n",
              "2          4.9         2.5          4.5         1.7        2\n",
              "3          4.9         3.1          1.5         0.1        0\n",
              "4          5.7         3.8          1.7         0.3        0"
            ]
          },
          "metadata": {},
          "execution_count": 5
        }
      ]
    },
    {
      "cell_type": "code",
      "metadata": {
        "colab": {
          "base_uri": "https://localhost:8080/",
          "height": 204
        },
        "id": "Q15DszKuLrv3",
        "outputId": "aa591877-9586-4ad0-ddd8-c1e151531c5d"
      },
      "source": [
        "train_y = train.pop('Species')\n",
        "test_y = test.pop('Species')\n",
        "train.head() # the species column is now gone"
      ],
      "execution_count": 6,
      "outputs": [
        {
          "output_type": "execute_result",
          "data": {
            "text/html": [
              "<div>\n",
              "<style scoped>\n",
              "    .dataframe tbody tr th:only-of-type {\n",
              "        vertical-align: middle;\n",
              "    }\n",
              "\n",
              "    .dataframe tbody tr th {\n",
              "        vertical-align: top;\n",
              "    }\n",
              "\n",
              "    .dataframe thead th {\n",
              "        text-align: right;\n",
              "    }\n",
              "</style>\n",
              "<table border=\"1\" class=\"dataframe\">\n",
              "  <thead>\n",
              "    <tr style=\"text-align: right;\">\n",
              "      <th></th>\n",
              "      <th>SepalLength</th>\n",
              "      <th>SepalWidth</th>\n",
              "      <th>PetalLength</th>\n",
              "      <th>PetalWidth</th>\n",
              "    </tr>\n",
              "  </thead>\n",
              "  <tbody>\n",
              "    <tr>\n",
              "      <th>0</th>\n",
              "      <td>6.4</td>\n",
              "      <td>2.8</td>\n",
              "      <td>5.6</td>\n",
              "      <td>2.2</td>\n",
              "    </tr>\n",
              "    <tr>\n",
              "      <th>1</th>\n",
              "      <td>5.0</td>\n",
              "      <td>2.3</td>\n",
              "      <td>3.3</td>\n",
              "      <td>1.0</td>\n",
              "    </tr>\n",
              "    <tr>\n",
              "      <th>2</th>\n",
              "      <td>4.9</td>\n",
              "      <td>2.5</td>\n",
              "      <td>4.5</td>\n",
              "      <td>1.7</td>\n",
              "    </tr>\n",
              "    <tr>\n",
              "      <th>3</th>\n",
              "      <td>4.9</td>\n",
              "      <td>3.1</td>\n",
              "      <td>1.5</td>\n",
              "      <td>0.1</td>\n",
              "    </tr>\n",
              "    <tr>\n",
              "      <th>4</th>\n",
              "      <td>5.7</td>\n",
              "      <td>3.8</td>\n",
              "      <td>1.7</td>\n",
              "      <td>0.3</td>\n",
              "    </tr>\n",
              "  </tbody>\n",
              "</table>\n",
              "</div>"
            ],
            "text/plain": [
              "   SepalLength  SepalWidth  PetalLength  PetalWidth\n",
              "0          6.4         2.8          5.6         2.2\n",
              "1          5.0         2.3          3.3         1.0\n",
              "2          4.9         2.5          4.5         1.7\n",
              "3          4.9         3.1          1.5         0.1\n",
              "4          5.7         3.8          1.7         0.3"
            ]
          },
          "metadata": {},
          "execution_count": 6
        }
      ]
    },
    {
      "cell_type": "code",
      "metadata": {
        "colab": {
          "base_uri": "https://localhost:8080/"
        },
        "id": "YJuisV-FLwRZ",
        "outputId": "89b473d2-64aa-47dc-ee19-7cb6609b9fdd"
      },
      "source": [
        "train.shape  # we have 120 entires with 4 features"
      ],
      "execution_count": 7,
      "outputs": [
        {
          "output_type": "execute_result",
          "data": {
            "text/plain": [
              "(120, 4)"
            ]
          },
          "metadata": {},
          "execution_count": 7
        }
      ]
    },
    {
      "cell_type": "code",
      "metadata": {
        "id": "2DACbfmHLxKn"
      },
      "source": [
        "def input_fn(features, labels, training=True, batch_size=256):\n",
        "    # Convert the inputs to a Dataset.\n",
        "    dataset = tf.data.Dataset.from_tensor_slices((dict(features), labels))\n",
        "\n",
        "    # Shuffle and repeat if you are in training mode.\n",
        "    if training:\n",
        "        dataset = dataset.shuffle(1000).repeat()\n",
        "    \n",
        "    return dataset.batch(batch_size)\n"
      ],
      "execution_count": 8,
      "outputs": []
    },
    {
      "cell_type": "code",
      "metadata": {
        "colab": {
          "base_uri": "https://localhost:8080/"
        },
        "id": "sX8UEAmVL5Vm",
        "outputId": "c4edce7c-2a8d-4e10-f475-f7128cad0cac"
      },
      "source": [
        "my_feature_column =[]\n",
        "\n",
        "for key in train.keys():\n",
        "  my_feature_column.append(tf.feature_column.numeric_column(key=key))\n",
        "\n",
        "print(my_feature_column)"
      ],
      "execution_count": 9,
      "outputs": [
        {
          "output_type": "stream",
          "name": "stdout",
          "text": [
            "[NumericColumn(key='SepalLength', shape=(1,), default_value=None, dtype=tf.float32, normalizer_fn=None), NumericColumn(key='SepalWidth', shape=(1,), default_value=None, dtype=tf.float32, normalizer_fn=None), NumericColumn(key='PetalLength', shape=(1,), default_value=None, dtype=tf.float32, normalizer_fn=None), NumericColumn(key='PetalWidth', shape=(1,), default_value=None, dtype=tf.float32, normalizer_fn=None)]\n"
          ]
        }
      ]
    },
    {
      "cell_type": "code",
      "metadata": {
        "colab": {
          "base_uri": "https://localhost:8080/"
        },
        "id": "WUEcE02-fNQ0",
        "outputId": "c6ff7414-2137-4bc0-c16b-b6d6c14185a2"
      },
      "source": [
        "# Build a DNN with 2 hidden layers with 30 and 10 hidden nodes each.\n",
        "classifier = tf.estimator.DNNClassifier(\n",
        "    feature_columns=my_feature_column,\n",
        "    # Two hidden layers of 30 and 10 nodes respectively.\n",
        "    hidden_units=[30, 10],\n",
        "    # The model must choose between 3 classes.\n",
        "    n_classes=3)"
      ],
      "execution_count": 10,
      "outputs": [
        {
          "output_type": "stream",
          "name": "stdout",
          "text": [
            "INFO:tensorflow:Using default config.\n",
            "WARNING:tensorflow:Using temporary folder as model directory: /tmp/tmpjsaw17py\n",
            "INFO:tensorflow:Using config: {'_model_dir': '/tmp/tmpjsaw17py', '_tf_random_seed': None, '_save_summary_steps': 100, '_save_checkpoints_steps': None, '_save_checkpoints_secs': 600, '_session_config': allow_soft_placement: true\n",
            "graph_options {\n",
            "  rewrite_options {\n",
            "    meta_optimizer_iterations: ONE\n",
            "  }\n",
            "}\n",
            ", '_keep_checkpoint_max': 5, '_keep_checkpoint_every_n_hours': 10000, '_log_step_count_steps': 100, '_train_distribute': None, '_device_fn': None, '_protocol': None, '_eval_distribute': None, '_experimental_distribute': None, '_experimental_max_worker_delay_secs': None, '_session_creation_timeout_secs': 7200, '_checkpoint_save_graph_def': True, '_service': None, '_cluster_spec': ClusterSpec({}), '_task_type': 'worker', '_task_id': 0, '_global_id_in_cluster': 0, '_master': '', '_evaluation_master': '', '_is_chief': True, '_num_ps_replicas': 0, '_num_worker_replicas': 1}\n"
          ]
        }
      ]
    },
    {
      "cell_type": "code",
      "metadata": {
        "colab": {
          "base_uri": "https://localhost:8080/"
        },
        "id": "u2oVeZXOhEGc",
        "outputId": "f462061e-afcb-45de-bfde-319713ef4292"
      },
      "source": [
        "classifier.train(\n",
        "    input_fn = lambda: input_fn(train, train_y, training=True, batch_size=256),\n",
        "    steps=5000)"
      ],
      "execution_count": 11,
      "outputs": [
        {
          "output_type": "stream",
          "name": "stdout",
          "text": [
            "WARNING:tensorflow:From /usr/local/lib/python3.7/dist-packages/tensorflow/python/training/training_util.py:236: Variable.initialized_value (from tensorflow.python.ops.variables) is deprecated and will be removed in a future version.\n",
            "Instructions for updating:\n",
            "Use Variable.read_value. Variables in 2.X are initialized automatically both in eager and graph (inside tf.defun) contexts.\n",
            "INFO:tensorflow:Calling model_fn.\n",
            "WARNING:tensorflow:From /usr/local/lib/python3.7/dist-packages/keras/optimizer_v2/adagrad.py:84: calling Constant.__init__ (from tensorflow.python.ops.init_ops) with dtype is deprecated and will be removed in a future version.\n",
            "Instructions for updating:\n",
            "Call initializer instance with the dtype argument instead of passing it to the constructor\n",
            "INFO:tensorflow:Done calling model_fn.\n",
            "INFO:tensorflow:Create CheckpointSaverHook.\n",
            "INFO:tensorflow:Graph was finalized.\n",
            "INFO:tensorflow:Running local_init_op.\n",
            "INFO:tensorflow:Done running local_init_op.\n",
            "INFO:tensorflow:Calling checkpoint listeners before saving checkpoint 0...\n",
            "INFO:tensorflow:Saving checkpoints for 0 into /tmp/tmpjsaw17py/model.ckpt.\n",
            "INFO:tensorflow:Calling checkpoint listeners after saving checkpoint 0...\n",
            "INFO:tensorflow:loss = 1.3474582, step = 0\n",
            "INFO:tensorflow:global_step/sec: 271.298\n",
            "INFO:tensorflow:loss = 1.0460873, step = 100 (0.372 sec)\n",
            "INFO:tensorflow:global_step/sec: 331.283\n",
            "INFO:tensorflow:loss = 0.9423052, step = 200 (0.301 sec)\n",
            "INFO:tensorflow:global_step/sec: 296.442\n",
            "INFO:tensorflow:loss = 0.8818033, step = 300 (0.337 sec)\n",
            "INFO:tensorflow:global_step/sec: 212.425\n",
            "INFO:tensorflow:loss = 0.8387549, step = 400 (0.472 sec)\n",
            "INFO:tensorflow:global_step/sec: 221.374\n",
            "INFO:tensorflow:loss = 0.8035965, step = 500 (0.455 sec)\n",
            "INFO:tensorflow:global_step/sec: 227.515\n",
            "INFO:tensorflow:loss = 0.77398545, step = 600 (0.439 sec)\n",
            "INFO:tensorflow:global_step/sec: 207.275\n",
            "INFO:tensorflow:loss = 0.7579247, step = 700 (0.486 sec)\n",
            "INFO:tensorflow:global_step/sec: 167.353\n",
            "INFO:tensorflow:loss = 0.7293351, step = 800 (0.597 sec)\n",
            "INFO:tensorflow:global_step/sec: 181.704\n",
            "INFO:tensorflow:loss = 0.71176386, step = 900 (0.548 sec)\n",
            "INFO:tensorflow:global_step/sec: 201.587\n",
            "INFO:tensorflow:loss = 0.69710505, step = 1000 (0.497 sec)\n",
            "INFO:tensorflow:global_step/sec: 242.286\n",
            "INFO:tensorflow:loss = 0.67732275, step = 1100 (0.407 sec)\n",
            "INFO:tensorflow:global_step/sec: 245.809\n",
            "INFO:tensorflow:loss = 0.6626749, step = 1200 (0.413 sec)\n",
            "INFO:tensorflow:global_step/sec: 212.383\n",
            "INFO:tensorflow:loss = 0.6576921, step = 1300 (0.469 sec)\n",
            "INFO:tensorflow:global_step/sec: 189.212\n",
            "INFO:tensorflow:loss = 0.63130057, step = 1400 (0.524 sec)\n",
            "INFO:tensorflow:global_step/sec: 211.822\n",
            "INFO:tensorflow:loss = 0.62614834, step = 1500 (0.472 sec)\n",
            "INFO:tensorflow:global_step/sec: 235.279\n",
            "INFO:tensorflow:loss = 0.6117948, step = 1600 (0.430 sec)\n",
            "INFO:tensorflow:global_step/sec: 220.633\n",
            "INFO:tensorflow:loss = 0.597362, step = 1700 (0.451 sec)\n",
            "INFO:tensorflow:global_step/sec: 167.131\n",
            "INFO:tensorflow:loss = 0.5926251, step = 1800 (0.595 sec)\n",
            "INFO:tensorflow:global_step/sec: 224.866\n",
            "INFO:tensorflow:loss = 0.58132505, step = 1900 (0.445 sec)\n",
            "INFO:tensorflow:global_step/sec: 202.767\n",
            "INFO:tensorflow:loss = 0.56529355, step = 2000 (0.493 sec)\n",
            "INFO:tensorflow:global_step/sec: 202.452\n",
            "INFO:tensorflow:loss = 0.5594413, step = 2100 (0.501 sec)\n",
            "INFO:tensorflow:global_step/sec: 243.362\n",
            "INFO:tensorflow:loss = 0.5548475, step = 2200 (0.405 sec)\n",
            "INFO:tensorflow:global_step/sec: 244.527\n",
            "INFO:tensorflow:loss = 0.5463018, step = 2300 (0.409 sec)\n",
            "INFO:tensorflow:global_step/sec: 219.401\n",
            "INFO:tensorflow:loss = 0.53459, step = 2400 (0.456 sec)\n",
            "INFO:tensorflow:global_step/sec: 182.676\n",
            "INFO:tensorflow:loss = 0.51989704, step = 2500 (0.553 sec)\n",
            "INFO:tensorflow:global_step/sec: 179.978\n",
            "INFO:tensorflow:loss = 0.5247155, step = 2600 (0.556 sec)\n",
            "INFO:tensorflow:global_step/sec: 207.199\n",
            "INFO:tensorflow:loss = 0.5053029, step = 2700 (0.477 sec)\n",
            "INFO:tensorflow:global_step/sec: 166.521\n",
            "INFO:tensorflow:loss = 0.505468, step = 2800 (0.602 sec)\n",
            "INFO:tensorflow:global_step/sec: 179.132\n",
            "INFO:tensorflow:loss = 0.5028978, step = 2900 (0.557 sec)\n",
            "INFO:tensorflow:global_step/sec: 246.823\n",
            "INFO:tensorflow:loss = 0.4985573, step = 3000 (0.405 sec)\n",
            "INFO:tensorflow:global_step/sec: 219.135\n",
            "INFO:tensorflow:loss = 0.49482968, step = 3100 (0.457 sec)\n",
            "INFO:tensorflow:global_step/sec: 208.928\n",
            "INFO:tensorflow:loss = 0.47895834, step = 3200 (0.479 sec)\n",
            "INFO:tensorflow:global_step/sec: 227.645\n",
            "INFO:tensorflow:loss = 0.47783077, step = 3300 (0.444 sec)\n",
            "INFO:tensorflow:global_step/sec: 227.299\n",
            "INFO:tensorflow:loss = 0.466205, step = 3400 (0.440 sec)\n",
            "INFO:tensorflow:global_step/sec: 219.16\n",
            "INFO:tensorflow:loss = 0.4697175, step = 3500 (0.456 sec)\n",
            "INFO:tensorflow:global_step/sec: 226.77\n",
            "INFO:tensorflow:loss = 0.46969247, step = 3600 (0.437 sec)\n",
            "INFO:tensorflow:global_step/sec: 203.13\n",
            "INFO:tensorflow:loss = 0.45243508, step = 3700 (0.496 sec)\n",
            "INFO:tensorflow:global_step/sec: 237.437\n",
            "INFO:tensorflow:loss = 0.45395803, step = 3800 (0.417 sec)\n",
            "INFO:tensorflow:global_step/sec: 237.269\n",
            "INFO:tensorflow:loss = 0.44477558, step = 3900 (0.421 sec)\n",
            "INFO:tensorflow:global_step/sec: 234.443\n",
            "INFO:tensorflow:loss = 0.43706915, step = 4000 (0.426 sec)\n",
            "INFO:tensorflow:global_step/sec: 208.856\n",
            "INFO:tensorflow:loss = 0.44831514, step = 4100 (0.480 sec)\n",
            "INFO:tensorflow:global_step/sec: 219.067\n",
            "INFO:tensorflow:loss = 0.43974748, step = 4200 (0.456 sec)\n",
            "INFO:tensorflow:global_step/sec: 221.36\n",
            "INFO:tensorflow:loss = 0.4263342, step = 4300 (0.454 sec)\n",
            "INFO:tensorflow:global_step/sec: 217.797\n",
            "INFO:tensorflow:loss = 0.42721885, step = 4400 (0.462 sec)\n",
            "INFO:tensorflow:global_step/sec: 216.366\n",
            "INFO:tensorflow:loss = 0.41987914, step = 4500 (0.462 sec)\n",
            "INFO:tensorflow:global_step/sec: 245.885\n",
            "INFO:tensorflow:loss = 0.41288543, step = 4600 (0.406 sec)\n",
            "INFO:tensorflow:global_step/sec: 159.415\n",
            "INFO:tensorflow:loss = 0.40742627, step = 4700 (0.627 sec)\n",
            "INFO:tensorflow:global_step/sec: 216.381\n",
            "INFO:tensorflow:loss = 0.40982294, step = 4800 (0.463 sec)\n",
            "INFO:tensorflow:global_step/sec: 165.769\n",
            "INFO:tensorflow:loss = 0.4109371, step = 4900 (0.602 sec)\n",
            "INFO:tensorflow:Calling checkpoint listeners before saving checkpoint 5000...\n",
            "INFO:tensorflow:Saving checkpoints for 5000 into /tmp/tmpjsaw17py/model.ckpt.\n",
            "INFO:tensorflow:Calling checkpoint listeners after saving checkpoint 5000...\n",
            "INFO:tensorflow:Loss for final step: 0.40758696.\n"
          ]
        },
        {
          "output_type": "execute_result",
          "data": {
            "text/plain": [
              "<tensorflow_estimator.python.estimator.canned.dnn.DNNClassifierV2 at 0x7fe5e3303a10>"
            ]
          },
          "metadata": {},
          "execution_count": 11
        }
      ]
    },
    {
      "cell_type": "code",
      "metadata": {
        "id": "N0lcZzrRkQlQ",
        "colab": {
          "base_uri": "https://localhost:8080/"
        },
        "outputId": "9b888e4a-5a8f-46d4-88cd-97da366aa6cd"
      },
      "source": [
        "eval_result = classifier.evaluate(\n",
        "    input_fn= lambda: input_fn(test, test_y, training=False))"
      ],
      "execution_count": 12,
      "outputs": [
        {
          "output_type": "stream",
          "name": "stdout",
          "text": [
            "INFO:tensorflow:Calling model_fn.\n",
            "INFO:tensorflow:Done calling model_fn.\n",
            "INFO:tensorflow:Starting evaluation at 2021-08-30T20:00:47\n",
            "INFO:tensorflow:Graph was finalized.\n",
            "INFO:tensorflow:Restoring parameters from /tmp/tmpjsaw17py/model.ckpt-5000\n",
            "INFO:tensorflow:Running local_init_op.\n",
            "INFO:tensorflow:Done running local_init_op.\n",
            "INFO:tensorflow:Inference Time : 0.70658s\n",
            "INFO:tensorflow:Finished evaluation at 2021-08-30-20:00:48\n",
            "INFO:tensorflow:Saving dict for global step 5000: accuracy = 0.9, average_loss = 0.47363946, global_step = 5000, loss = 0.47363946\n",
            "INFO:tensorflow:Saving 'checkpoint_path' summary for global step 5000: /tmp/tmpjsaw17py/model.ckpt-5000\n"
          ]
        }
      ]
    },
    {
      "cell_type": "code",
      "metadata": {
        "id": "6wPDf_RfmGpt",
        "colab": {
          "base_uri": "https://localhost:8080/"
        },
        "outputId": "03b01b6a-9e7a-4232-8e53-7bb58aff7ab4"
      },
      "source": [
        "print('\\nTest set accuracy: {accuracy:0.3f}\\n'.format(**eval_result))\n"
      ],
      "execution_count": 13,
      "outputs": [
        {
          "output_type": "stream",
          "name": "stdout",
          "text": [
            "\n",
            "Test set accuracy: 0.900\n",
            "\n"
          ]
        }
      ]
    },
    {
      "cell_type": "code",
      "metadata": {
        "id": "M3HJVRcUnApL",
        "colab": {
          "base_uri": "https://localhost:8080/"
        },
        "outputId": "a1357190-0c0f-4cbf-80e9-fa46bba226da"
      },
      "source": [
        "def input_fn(features, batch_size=256):\n",
        "    # Convert the inputs to a Dataset without labels.\n",
        "    return tf.data.Dataset.from_tensor_slices(dict(features)).batch(batch_size)\n",
        "\n",
        "features = ['SepalLength', 'SepalWidth', 'PetalLength', 'PetalWidth']\n",
        "predict = {}\n",
        "\n",
        "print(\"Please type numeric values as prompted.\")\n",
        "for feature in features:\n",
        "  valid = True\n",
        "  while valid: \n",
        "    val = input(feature + \": \")\n",
        "    if not val.isdigit(): valid = False\n",
        "\n",
        "  predict[feature] = [float(val)]\n",
        "\n",
        "predictions = classifier.predict(input_fn=lambda: input_fn(predict))\n",
        "for pred_dict in predictions:\n",
        "    class_id = pred_dict['class_ids'][0]\n",
        "    probability = pred_dict['probabilities'][class_id]\n",
        "\n",
        "    print('Prediction is \"{}\" ({:.1f}%)'.format(\n",
        "        SPECIES[class_id], 100 * probability))\n"
      ],
      "execution_count": 14,
      "outputs": [
        {
          "output_type": "stream",
          "name": "stdout",
          "text": [
            "Please type numeric values as prompted.\n",
            "SepalLength: 5.1\n",
            "SepalWidth: 3.3\n",
            "PetalLength: 1.7\n",
            "PetalWidth: 0.5\n",
            "INFO:tensorflow:Calling model_fn.\n",
            "INFO:tensorflow:Done calling model_fn.\n",
            "INFO:tensorflow:Graph was finalized.\n",
            "INFO:tensorflow:Restoring parameters from /tmp/tmpjsaw17py/model.ckpt-5000\n",
            "INFO:tensorflow:Running local_init_op.\n",
            "INFO:tensorflow:Done running local_init_op.\n",
            "Prediction is \"Setosa\" (84.0%)\n"
          ]
        }
      ]
    },
    {
      "cell_type": "code",
      "metadata": {
        "id": "5tZRy06XpBh0"
      },
      "source": [
        "# Here is some example input and expected classes you can try above\n",
        "expected = ['Setosa', 'Versicolor', 'Virginica']\n",
        "predict_x = {\n",
        "    'SepalLength': [5.1, 5.9, 6.9],\n",
        "    'SepalWidth': [3.3, 3.0, 3.1],\n",
        "    'PetalLength': [1.7, 4.2, 5.4],\n",
        "    'PetalWidth': [0.5, 1.5, 2.1],\n",
        "}"
      ],
      "execution_count": 15,
      "outputs": []
    }
  ]
}
